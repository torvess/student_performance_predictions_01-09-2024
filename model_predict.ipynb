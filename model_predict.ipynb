{
 "cells": [
  {
   "cell_type": "markdown",
   "metadata": {},
   "source": [
    "#### Importação das bibliotecas"
   ]
  },
  {
   "cell_type": "code",
   "execution_count": 2,
   "metadata": {},
   "outputs": [],
   "source": [
    "# processamento de dados\n",
    "import pandas as pd\n",
    "import numpy as np\n",
    "\n",
    "# dataviz\n",
    "import matplotlib.pyplot as plt\n",
    "import seaborn as sns\n",
    "\n",
    "# filtrar avisos de erros\n",
    "import warnings\n",
    "warnings.filterwarnings('ignore')"
   ]
  },
  {
   "cell_type": "markdown",
   "metadata": {},
   "source": [
    "#### Importação do dataset"
   ]
  },
  {
   "cell_type": "code",
   "execution_count": 6,
   "metadata": {},
   "outputs": [
    {
     "data": {
      "text/html": [
       "<div>\n",
       "<style scoped>\n",
       "    .dataframe tbody tr th:only-of-type {\n",
       "        vertical-align: middle;\n",
       "    }\n",
       "\n",
       "    .dataframe tbody tr th {\n",
       "        vertical-align: top;\n",
       "    }\n",
       "\n",
       "    .dataframe thead th {\n",
       "        text-align: right;\n",
       "    }\n",
       "</style>\n",
       "<table border=\"1\" class=\"dataframe\">\n",
       "  <thead>\n",
       "    <tr style=\"text-align: right;\">\n",
       "      <th></th>\n",
       "      <th>StudentID</th>\n",
       "      <th>Name</th>\n",
       "      <th>Gender</th>\n",
       "      <th>AttendanceRate</th>\n",
       "      <th>StudyHoursPerWeek</th>\n",
       "      <th>PreviousGrade</th>\n",
       "      <th>ExtracurricularActivities</th>\n",
       "      <th>ParentalSupport</th>\n",
       "      <th>FinalGrade</th>\n",
       "    </tr>\n",
       "  </thead>\n",
       "  <tbody>\n",
       "    <tr>\n",
       "      <th>0</th>\n",
       "      <td>1</td>\n",
       "      <td>John</td>\n",
       "      <td>Male</td>\n",
       "      <td>85</td>\n",
       "      <td>15</td>\n",
       "      <td>78</td>\n",
       "      <td>1</td>\n",
       "      <td>High</td>\n",
       "      <td>80</td>\n",
       "    </tr>\n",
       "    <tr>\n",
       "      <th>1</th>\n",
       "      <td>2</td>\n",
       "      <td>Sarah</td>\n",
       "      <td>Female</td>\n",
       "      <td>90</td>\n",
       "      <td>20</td>\n",
       "      <td>85</td>\n",
       "      <td>2</td>\n",
       "      <td>Medium</td>\n",
       "      <td>87</td>\n",
       "    </tr>\n",
       "    <tr>\n",
       "      <th>2</th>\n",
       "      <td>3</td>\n",
       "      <td>Alex</td>\n",
       "      <td>Male</td>\n",
       "      <td>78</td>\n",
       "      <td>10</td>\n",
       "      <td>65</td>\n",
       "      <td>0</td>\n",
       "      <td>Low</td>\n",
       "      <td>68</td>\n",
       "    </tr>\n",
       "    <tr>\n",
       "      <th>3</th>\n",
       "      <td>4</td>\n",
       "      <td>Michael</td>\n",
       "      <td>Male</td>\n",
       "      <td>92</td>\n",
       "      <td>25</td>\n",
       "      <td>90</td>\n",
       "      <td>3</td>\n",
       "      <td>High</td>\n",
       "      <td>92</td>\n",
       "    </tr>\n",
       "    <tr>\n",
       "      <th>4</th>\n",
       "      <td>5</td>\n",
       "      <td>Emma</td>\n",
       "      <td>Female</td>\n",
       "      <td>88</td>\n",
       "      <td>18</td>\n",
       "      <td>82</td>\n",
       "      <td>2</td>\n",
       "      <td>Medium</td>\n",
       "      <td>85</td>\n",
       "    </tr>\n",
       "  </tbody>\n",
       "</table>\n",
       "</div>"
      ],
      "text/plain": [
       "   StudentID     Name  Gender  AttendanceRate  StudyHoursPerWeek  \\\n",
       "0          1     John    Male              85                 15   \n",
       "1          2    Sarah  Female              90                 20   \n",
       "2          3     Alex    Male              78                 10   \n",
       "3          4  Michael    Male              92                 25   \n",
       "4          5     Emma  Female              88                 18   \n",
       "\n",
       "   PreviousGrade  ExtracurricularActivities ParentalSupport  FinalGrade  \n",
       "0             78                          1            High          80  \n",
       "1             85                          2          Medium          87  \n",
       "2             65                          0             Low          68  \n",
       "3             90                          3            High          92  \n",
       "4             82                          2          Medium          85  "
      ]
     },
     "execution_count": 6,
     "metadata": {},
     "output_type": "execute_result"
    }
   ],
   "source": [
    "path_dataset =  r'D:\\Documentos\\Projetos\\student_performance_predictions_01-09-2024\\Dados\\student_performance.csv'\n",
    "\n",
    "dados_orig = pd.read_csv(path_dataset)\n",
    "\n",
    "dados_orig.head()"
   ]
  },
  {
   "cell_type": "code",
   "execution_count": 9,
   "metadata": {},
   "outputs": [
    {
     "name": "stdout",
     "output_type": "stream",
     "text": [
      "Número de linhas: 10\n",
      "Número de colunas: 9\n"
     ]
    }
   ],
   "source": [
    "# verificando a dimensão do dataset\n",
    "num_linhas, num_colunas = dados_orig.shape\n",
    "\n",
    "print(f'Número de linhas: {num_linhas}')\n",
    "print(f'Número de colunas: {num_colunas}')"
   ]
  },
  {
   "cell_type": "markdown",
   "metadata": {},
   "source": [
    "Como é um dataset direcionado para estudo de machine learning possui um número pequeno de dados"
   ]
  },
  {
   "cell_type": "code",
   "execution_count": 10,
   "metadata": {},
   "outputs": [
    {
     "data": {
      "text/plain": [
       "StudentID                     int64\n",
       "Name                         object\n",
       "Gender                       object\n",
       "AttendanceRate                int64\n",
       "StudyHoursPerWeek             int64\n",
       "PreviousGrade                 int64\n",
       "ExtracurricularActivities     int64\n",
       "ParentalSupport              object\n",
       "FinalGrade                    int64\n",
       "dtype: object"
      ]
     },
     "execution_count": 10,
     "metadata": {},
     "output_type": "execute_result"
    }
   ],
   "source": [
    "# verificando tipo de dados\n",
    "dados_orig.dtypes"
   ]
  },
  {
   "cell_type": "markdown",
   "metadata": {},
   "source": [
    "Os tipo de dados estão de acordo com as features"
   ]
  },
  {
   "cell_type": "code",
   "execution_count": 15,
   "metadata": {},
   "outputs": [
    {
     "name": "stdout",
     "output_type": "stream",
     "text": [
      "Quantidade de dados nulos no dataset: 0\n",
      "Quantidade de linhas duplicadas no dataset: 0\n"
     ]
    }
   ],
   "source": [
    "# verificando dados nulos e linhas duplicadas\n",
    "print(f'Quantidade de dados nulos no dataset: {dados_orig.isnull().sum().sum()}')\n",
    "print(f'Quantidade de linhas duplicadas no dataset: {dados_orig.duplicated().sum()}')"
   ]
  }
 ],
 "metadata": {
  "kernelspec": {
   "display_name": "Python 3",
   "language": "python",
   "name": "python3"
  },
  "language_info": {
   "codemirror_mode": {
    "name": "ipython",
    "version": 3
   },
   "file_extension": ".py",
   "mimetype": "text/x-python",
   "name": "python",
   "nbconvert_exporter": "python",
   "pygments_lexer": "ipython3",
   "version": "3.12.2"
  }
 },
 "nbformat": 4,
 "nbformat_minor": 2
}
